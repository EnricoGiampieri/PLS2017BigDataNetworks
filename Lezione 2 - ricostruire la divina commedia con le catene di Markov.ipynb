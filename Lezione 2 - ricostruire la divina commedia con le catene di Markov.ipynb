{
 "cells": [
  {
   "cell_type": "markdown",
   "metadata": {
    "slideshow": {
     "slide_type": "slide"
    }
   },
   "source": [
    "# Ricostruire la divina commedia con le catene di Markov"
   ]
  },
  {
   "cell_type": "markdown",
   "metadata": {
    "slideshow": {
     "slide_type": "slide"
    }
   },
   "source": [
    "Il nostro scopo è ricostruire la struttura del DNA.\n",
    "\n",
    "Il problema è che non sappiamo cosa stiamo cercando!\n",
    "\n",
    "Come possiamo capire se e quanto i nostri metodi funzionano in modo appropriato, e quali features catturano?"
   ]
  },
  {
   "cell_type": "markdown",
   "metadata": {
    "slideshow": {
     "slide_type": "slide"
    }
   },
   "source": [
    "Per fare questo, possiamo usare un dataset di prova, che conosciamo bene, per testare se e quanto il nostro metodo sia affidabile e preciso.\n",
    "\n",
    "Nel nostro caso, useremo la divina commedia come sostituto del DNA.\n",
    "\n",
    "* sappiamo riconoscere al volo suoni simili all'italiano\n",
    "* sappiamo distinguere italiano moderno da quello antico\n",
    "* sappiamo che ha strutture quasi locali (endecasillabo, rima alternata) e così via.\n",
    "\n",
    "Possiamo testare uno o più modelli per capire come e quanto riproduce queste caratteristiche."
   ]
  },
  {
   "cell_type": "markdown",
   "metadata": {
    "slideshow": {
     "slide_type": "slide"
    }
   },
   "source": [
    "Useremo una versione della divina commedia fornita gratuitamente dal [progetto Gutenberg](https://www.gutenberg.org/).\n",
    "\n",
    "Ho rimosso tutto il testo che non è la divina commedia, inclusi i titoli dei vari canti.\n",
    "\n",
    "Questo sarà il nostro testo di riferimento"
   ]
  },
  {
   "cell_type": "markdown",
   "metadata": {
    "slideshow": {
     "slide_type": "slide"
    }
   },
   "source": [
    "Vogliamo unire tutto il testo in un unico flusso di caratteri stampabili.\n",
    "\n",
    "Per far questo ci dobbiamo appoggiare alla libreria di python chiamata *itertools* che ci fornisce gli strumenti per manipolare gli iteratori"
   ]
  },
  {
   "cell_type": "code",
   "execution_count": 14,
   "metadata": {
    "collapsed": true,
    "slideshow": {
     "slide_type": "fragment"
    }
   },
   "outputs": [],
   "source": [
    "import itertools as it"
   ]
  },
  {
   "cell_type": "markdown",
   "metadata": {
    "slideshow": {
     "slide_type": "slide"
    }
   },
   "source": [
    "useremo due funzioni principali:\n",
    "    \n",
    "* **itertools.chain.from_iterable** per combinare le linee in un flusso unico\n",
    "* **itertools.islice** per selezionare soltanto una parte del nostro testo invece che tutto"
   ]
  },
  {
   "cell_type": "markdown",
   "metadata": {
    "slideshow": {
     "slide_type": "slide"
    }
   },
   "source": [
    "## itertools.chain.from_iterable"
   ]
  },
  {
   "cell_type": "code",
   "execution_count": 15,
   "metadata": {
    "collapsed": false,
    "slideshow": {
     "slide_type": "fragment"
    }
   },
   "outputs": [
    {
     "name": "stdout",
     "output_type": "stream",
     "text": [
      "[1, 2]\n",
      "[3, 4]\n"
     ]
    }
   ],
   "source": [
    "lista_di_liste = [[1, 2], [3, 4]]\n",
    "for elemento in lista_di_liste:\n",
    "    print(elemento)"
   ]
  },
  {
   "cell_type": "code",
   "execution_count": 17,
   "metadata": {
    "collapsed": false,
    "slideshow": {
     "slide_type": "fragment"
    }
   },
   "outputs": [
    {
     "name": "stdout",
     "output_type": "stream",
     "text": [
      "1\n",
      "2\n",
      "3\n",
      "4\n"
     ]
    }
   ],
   "source": [
    "for elemento in it.chain.from_iterable(lista_di_liste):\n",
    "    print(elemento)"
   ]
  },
  {
   "cell_type": "markdown",
   "metadata": {
    "slideshow": {
     "slide_type": "slide"
    }
   },
   "source": [
    "## itertools.islice"
   ]
  },
  {
   "cell_type": "code",
   "execution_count": 18,
   "metadata": {
    "collapsed": false,
    "slideshow": {
     "slide_type": "fragment"
    }
   },
   "outputs": [
    {
     "name": "stdout",
     "output_type": "stream",
     "text": [
      "1\n",
      "2\n",
      "3\n",
      "4\n",
      "5\n"
     ]
    }
   ],
   "source": [
    "lista_lunga = [1, 2, 3, 4, 5, 6, 7, 8, 9, 10]\n",
    "\n",
    "for elemento in it.islice(lista_lunga, 5):\n",
    "    print(elemento)"
   ]
  },
  {
   "cell_type": "markdown",
   "metadata": {
    "slideshow": {
     "slide_type": "fragment"
    }
   },
   "source": [
    "Per le liste potrei farlo anche in modo più semplice, ma in generale gli iteratore non mi supportano la sottoselezione in modo semplice."
   ]
  },
  {
   "cell_type": "code",
   "execution_count": 40,
   "metadata": {
    "collapsed": false,
    "slideshow": {
     "slide_type": "slide"
    }
   },
   "outputs": [
    {
     "name": "stdout",
     "output_type": "stream",
     "text": [
      "['N', 'e', 'l', ' ', 'm', 'e', 'z', 'z', 'o', ' ', 'd', 'e', 'l', ' ', 'c', 'a', 'm', 'm', 'i', 'n', ' ', 'd', 'i', ' ', 'n', 'o', 's', 't', 'r', 'a', ' ', 'v', 'i', 't', 'a', '\\n', 'm', 'i', ' ', 'r', 'i', 't', 'r', 'o', 'v', 'a', 'i', ' ', 'p', 'e']\n"
     ]
    }
   ],
   "source": [
    "file = './divinacommedia_cleaned.txt'\n",
    "# devo leggere il file nel suo encoding, in questo caso non standard\n",
    "with open(file, 'r', encoding='utf-8-sig') as testo:\n",
    "    testo = it.chain.from_iterable(testo)\n",
    "    head = it.islice(testo, 50)\n",
    "    result = list(head)\n",
    "    print(result)"
   ]
  },
  {
   "cell_type": "markdown",
   "metadata": {
    "slideshow": {
     "slide_type": "slide"
    }
   },
   "source": [
    "Per rendere più semplice la nostra analisi, convertiamo tutto in minuscolo, in modo che le maiuscole non vengano viste come lettere differenti."
   ]
  },
  {
   "cell_type": "code",
   "execution_count": 41,
   "metadata": {
    "collapsed": false,
    "slideshow": {
     "slide_type": "slide"
    }
   },
   "outputs": [
    {
     "name": "stdout",
     "output_type": "stream",
     "text": [
      "['n', 'e', 'l', ' ', 'm', 'e', 'z', 'z', 'o', ' ', 'd', 'e', 'l', ' ', 'c', 'a', 'm', 'm', 'i', 'n', ' ', 'd', 'i', ' ', 'n', 'o', 's', 't', 'r', 'a', ' ', 'v', 'i', 't', 'a', '\\n', 'm', 'i', ' ', 'r', 'i', 't', 'r', 'o', 'v', 'a', 'i', ' ', 'p', 'e']\n"
     ]
    }
   ],
   "source": [
    "file = './divinacommedia_cleaned.txt'\n",
    "with open(file, 'r', encoding='utf-8-sig') as testo:\n",
    "    linee = (linea.lower() for linea in testo)\n",
    "    testo = it.chain.from_iterable(linee)\n",
    "    head = it.islice(testo, 50)\n",
    "    result = list(head)\n",
    "    print(result)"
   ]
  },
  {
   "cell_type": "markdown",
   "metadata": {
    "slideshow": {
     "slide_type": "slide"
    }
   },
   "source": [
    "Ora iniziamo con il nostro modello più semplice: generiamo il testo semplicemente ripetendo le lettere in base a quanto sono frequenti.\n",
    "\n",
    "Questo ci richiede per prima cosa di valutare la frequenza di queste lettere!\n",
    "\n",
    "Per far questo, abbiamo uno strumento giù predisposo, la classe **Counter**."
   ]
  },
  {
   "cell_type": "code",
   "execution_count": 42,
   "metadata": {
    "collapsed": false,
    "slideshow": {
     "slide_type": "fragment"
    }
   },
   "outputs": [
    {
     "data": {
      "text/plain": [
       "[('a', 4), ('b', 2)]"
      ]
     },
     "execution_count": 42,
     "metadata": {},
     "output_type": "execute_result"
    }
   ],
   "source": [
    "from collections import Counter\n",
    "\n",
    "lettere = \"aaaabb\"\n",
    "conteggi = Counter(lettere)\n",
    "conteggi.most_common()"
   ]
  },
  {
   "cell_type": "code",
   "execution_count": 43,
   "metadata": {
    "collapsed": false,
    "slideshow": {
     "slide_type": "slide"
    }
   },
   "outputs": [
    {
     "name": "stdout",
     "output_type": "stream",
     "text": [
      "Counter({' ': 8, 'i': 6, 'e': 4, 'm': 4, 'a': 4, 'n': 3, 'o': 3, 't': 3, 'r': 3, 'l': 2, 'z': 2, 'd': 2, 'v': 2, 'c': 1, 's': 1, '\\n': 1, 'p': 1})\n"
     ]
    }
   ],
   "source": [
    "file = './divinacommedia_cleaned.txt'\n",
    "with open(file, 'r', encoding='utf-8-sig') as testo:\n",
    "    linee = (linea.lower() for linea in testo)\n",
    "    testo = it.chain.from_iterable(linee)\n",
    "    head = it.islice(testo, 50)\n",
    "    conteggi = Counter(head)\n",
    "    print(conteggi)"
   ]
  },
  {
   "cell_type": "markdown",
   "metadata": {
    "slideshow": {
     "slide_type": "slide"
    }
   },
   "source": [
    "ora vogliamo estrarre le lettere a caso in modo proporzionale a quanto le abbiamo visto di frequente.\n",
    "\n",
    "Per far questo, possiamo usare la funzione **choices** della libreria **random**."
   ]
  },
  {
   "cell_type": "code",
   "execution_count": 47,
   "metadata": {
    "collapsed": false,
    "slideshow": {
     "slide_type": "fragment"
    }
   },
   "outputs": [
    {
     "data": {
      "text/plain": [
       "['a', 'a', 'a', 'a', 'a', 'a', 'a', 'b', 'a', 'a']"
      ]
     },
     "execution_count": 47,
     "metadata": {},
     "output_type": "execute_result"
    }
   ],
   "source": [
    "from random import choices\n",
    "\n",
    "lettere = ['a', 'b']\n",
    "frequenze = [9, 1]\n",
    "\n",
    "choices(lettere, weights=frequenze, k=10)"
   ]
  },
  {
   "cell_type": "markdown",
   "metadata": {
    "slideshow": {
     "slide_type": "slide"
    }
   },
   "source": [
    "se volessimo usarlo per generare il testo, possiamo unire tutte queste lettere con un join"
   ]
  },
  {
   "cell_type": "code",
   "execution_count": 48,
   "metadata": {
    "collapsed": false,
    "slideshow": {
     "slide_type": "fragment"
    }
   },
   "outputs": [
    {
     "name": "stdout",
     "output_type": "stream",
     "text": [
      "aaaaaaaaaa\n"
     ]
    }
   ],
   "source": [
    "random = choices(lettere, weights=frequenze, k=10)\n",
    "testo = str.join('', random)\n",
    "print(testo)"
   ]
  },
  {
   "cell_type": "markdown",
   "metadata": {
    "slideshow": {
     "slide_type": "slide"
    }
   },
   "source": [
    "Possiamo usare **choices** in combinazione con **Counter** in modo semplice"
   ]
  },
  {
   "cell_type": "code",
   "execution_count": 49,
   "metadata": {
    "collapsed": false,
    "slideshow": {
     "slide_type": "slide"
    }
   },
   "outputs": [
    {
     "name": "stdout",
     "output_type": "stream",
     "text": [
      "dict_keys(['a', 'b']) dict_values([4, 2])\n"
     ]
    }
   ],
   "source": [
    "lettere = \"aaaabb\"\n",
    "conteggi = Counter(lettere)\n",
    "print(conteggi.keys(), conteggi.values())"
   ]
  },
  {
   "cell_type": "code",
   "execution_count": 52,
   "metadata": {
    "collapsed": false,
    "slideshow": {
     "slide_type": "slide"
    }
   },
   "outputs": [
    {
     "name": "stdout",
     "output_type": "stream",
     "text": [
      "aaaababbabaaababbaba\n"
     ]
    }
   ],
   "source": [
    "lettere = \"aaaabb\"\n",
    "conteggi = Counter(lettere)\n",
    "lettere = list(conteggi.keys())\n",
    "frequenze = list(conteggi.values())\n",
    "random = choices(lettere, weights=frequenze, k=20)\n",
    "testo = str.join('', random)\n",
    "print(testo)"
   ]
  },
  {
   "cell_type": "code",
   "execution_count": 54,
   "metadata": {
    "collapsed": false,
    "slideshow": {
     "slide_type": "slide"
    }
   },
   "outputs": [
    {
     "name": "stdout",
     "output_type": "stream",
     "text": [
      "oauéé   mp eim  naatza hiivtrlaiivinaaarsstid u revstétienéahrsoecm  iminmaiuvnrarcav,cae\n",
      "asaioléair\n"
     ]
    }
   ],
   "source": [
    "file = './divinacommedia_cleaned.txt'\n",
    "with open(file, 'r', encoding='utf-8-sig') as testo:\n",
    "    linee = (linea.lower() for linea in testo)\n",
    "    testo = it.chain.from_iterable(linee)\n",
    "    head = it.islice(testo, 100)\n",
    "    conteggi = Counter(head)\n",
    "    \n",
    "lettere = list(conteggi.keys())\n",
    "frequenze = list(conteggi.values())\n",
    "random = choices(lettere, weights=frequenze, k=100)\n",
    "testo = str.join('', random)\n",
    "print(testo)"
   ]
  },
  {
   "cell_type": "markdown",
   "metadata": {
    "slideshow": {
     "slide_type": "slide"
    }
   },
   "source": [
    "Il risultato è chiaramente deludente.\n",
    "\n",
    "Non solo non assomiglia ad una frase italiana...non sembrano neppure parole!\n",
    "\n",
    "Cosa sta succedendo?"
   ]
  },
  {
   "cell_type": "markdown",
   "metadata": {
    "slideshow": {
     "slide_type": "fragment"
    }
   },
   "source": [
    "\n",
    "Sappiamo che nell'italiano le parole non sono composte semplicemente dai suoni, ma da come i suoni i susseguono l'un l'altro.\n",
    "\n",
    "Per rappresentare questa conoscenza, possiamo utilizzare un metodo della fisica matematica chiamato Catene di Markov."
   ]
  },
  {
   "cell_type": "markdown",
   "metadata": {
    "slideshow": {
     "slide_type": "slide"
    }
   },
   "source": [
    "## Le catene di Markov\n",
    "\n",
    "L'idea è semplice: invece di generare ogni lettere sulla base della sua frequenza nel testo, facciamo un passaggio leggermente più intelligente.\n",
    "\n",
    "* Guardo l'ultima lettera del testo che ho generato finora.\n",
    "* Considero nel testo originale quanto spesso ciascuna lettera segue la lettera che ho scelto.\n",
    "* Genero la mia nuova lettera sulla base di questa **probabilità condizionata**.\n",
    "* Ricomincio usando l'ultima lettera generata come punto di partenza."
   ]
  },
  {
   "cell_type": "markdown",
   "metadata": {
    "slideshow": {
     "slide_type": "slide"
    }
   },
   "source": [
    "Per ciascuna lettera dell'alfabeto dovremo quindi avere un **Counter** che mi tenga conto di quali lettere potranno seguire.\n",
    "\n",
    "Per poter fare questo devo unire le lettere del mio testo in coppie consecutive di lettere!\n",
    "\n",
    "Per fare questo uso una libreria esterna, **toolz**, che mi fornisce la funzione **sliding_window** che fa proprio questo"
   ]
  },
  {
   "cell_type": "code",
   "execution_count": 55,
   "metadata": {
    "collapsed": false,
    "slideshow": {
     "slide_type": "slide"
    }
   },
   "outputs": [
    {
     "name": "stdout",
     "output_type": "stream",
     "text": [
      "[('a', 'b'), ('b', 'c'), ('c', 'd'), ('d', 'e'), ('e', 'f'), ('f', 'g')]\n"
     ]
    }
   ],
   "source": [
    "from toolz import sliding_window\n",
    "\n",
    "lettere = \"abcdefg\"\n",
    "\n",
    "coppie = sliding_window(2, lettere)\n",
    "\n",
    "print(list(coppie))"
   ]
  },
  {
   "cell_type": "markdown",
   "metadata": {
    "slideshow": {
     "slide_type": "slide"
    }
   },
   "source": [
    "## WARNING\n",
    "\n",
    "Useremo degli algoritmi assolutamente non ottimali!\n",
    "\n",
    "In questo caso ci servono solo per capire il procedimento, nella vita reale sono troppo lenti per funzionare davvero!"
   ]
  },
  {
   "cell_type": "code",
   "execution_count": 57,
   "metadata": {
    "collapsed": false,
    "slideshow": {
     "slide_type": "slide"
    }
   },
   "outputs": [
    {
     "name": "stdout",
     "output_type": "stream",
     "text": [
      "[('n', 'e'), ('e', 'l'), ('l', ' '), (' ', 'm'), ('m', 'e'), ('e', 'z'), ('z', 'z'), ('z', 'o'), ('o', ' '), (' ', 'd'), ('d', 'e'), ('e', 'l'), ('l', ' '), (' ', 'c'), ('c', 'a'), ('a', 'm'), ('m', 'm'), ('m', 'i'), ('i', 'n'), ('n', ' '), (' ', 'd'), ('d', 'i'), ('i', ' '), (' ', 'n'), ('n', 'o'), ('o', 's'), ('s', 't'), ('t', 'r'), ('r', 'a')]\n"
     ]
    }
   ],
   "source": [
    "file = './divinacommedia_cleaned.txt'\n",
    "with open(file, 'r', encoding='utf-8-sig') as testo:\n",
    "    linee = (linea.lower() for linea in testo)\n",
    "    testo = it.chain.from_iterable(linee)\n",
    "    head = it.islice(testo, 30)\n",
    "    coppie = sliding_window(2, head)\n",
    "    print(list(coppie))"
   ]
  },
  {
   "cell_type": "code",
   "execution_count": 59,
   "metadata": {
    "collapsed": false,
    "slideshow": {
     "slide_type": "slide"
    }
   },
   "outputs": [
    {
     "name": "stdout",
     "output_type": "stream",
     "text": [
      "[(('a', ' '), 18), (('r', 'a'), 9), (('e', 'l'), 7), ((' ', 'd'), 7), (('t', 'a'), 6)]\n"
     ]
    }
   ],
   "source": [
    "file = './divinacommedia_cleaned.txt'\n",
    "with open(file, 'r', encoding='utf-8-sig') as testo:\n",
    "    linee = (linea.lower() for linea in testo)\n",
    "    testo = it.chain.from_iterable(linee)\n",
    "    head = it.islice(testo, 300)\n",
    "    coppie = sliding_window(2, head)\n",
    "    conteggi = Counter(coppie)\n",
    "    print(conteggi.most_common(5))"
   ]
  },
  {
   "cell_type": "markdown",
   "metadata": {
    "slideshow": {
     "slide_type": "slide"
    }
   },
   "source": [
    "quante combinazioni posso avere?\n",
    "\n",
    "per semplificare, consideriamo solo le lettere, gli spazi e le lettere accentate. \n",
    "\n",
    "Otteniamo circa 30 caratteri.\n",
    "\n",
    "tutte le coppie sono date da $30^2 = 900$\n",
    "\n",
    "Se tutte queste coppie fossero equiprobabili e ne volessimo avere almeno 10 campionamenti per coppia, dovremmo avere circa 10'000 lettere.\n",
    "\n",
    "Quando useremo le triplette, avremo $30^3 = 27'000$ combinazioni, quindi avremo bisogno di circa 300'000 lettere per avere una buona copertura.\n",
    "\n",
    "quante lettere abbiamo in totale nella nostra divina commedia?"
   ]
  },
  {
   "cell_type": "code",
   "execution_count": 61,
   "metadata": {
    "collapsed": false,
    "slideshow": {
     "slide_type": "slide"
    }
   },
   "outputs": [
    {
     "name": "stdout",
     "output_type": "stream",
     "text": [
      "529770\n"
     ]
    }
   ],
   "source": [
    "file = './divinacommedia_cleaned.txt'\n",
    "with open(file, 'r', encoding='utf-8-sig') as testo:\n",
    "    linee = (linea.lower() for linea in testo)\n",
    "    testo = it.chain.from_iterable(linee)\n",
    "    conteggio = sum(1 for c in testo)\n",
    "print(conteggio)"
   ]
  },
  {
   "cell_type": "markdown",
   "metadata": {
    "slideshow": {
     "slide_type": "slide"
    }
   },
   "source": [
    "Questo ci dice che non potremo davvero andare oltre le triplette, almeno senza renderci le cose difficili."
   ]
  },
  {
   "cell_type": "code",
   "execution_count": 72,
   "metadata": {
    "collapsed": false,
    "slideshow": {
     "slide_type": "slide"
    }
   },
   "outputs": [
    {
     "name": "stdout",
     "output_type": "stream",
     "text": [
      "855\n",
      "[(('e', ' '), 17397), (('a', ' '), 13949), (('i', ' '), 11636), (('o', ' '), 10906), ((' ', 'c'), 9579)]\n"
     ]
    }
   ],
   "source": [
    "file = './divinacommedia_cleaned.txt'\n",
    "with open(file, 'r', encoding='utf-8-sig') as testo:\n",
    "    linee = (linea.lower() for linea in testo)\n",
    "    testo = it.chain.from_iterable(linee)\n",
    "    coppie = sliding_window(2, testo)\n",
    "    conteggi = Counter(coppie)\n",
    "print(len(conteggi))\n",
    "print(conteggi.most_common(5))"
   ]
  },
  {
   "cell_type": "markdown",
   "metadata": {
    "slideshow": {
     "slide_type": "slide"
    }
   },
   "source": [
    "possiamo vedere come in realtà, anche con le sole coppie, non riusciamo a coprire tutti i casi possibili!\n",
    "\n",
    "Però iniziamo già a vedere una prima feature della lingua italiana: le parole finiscono spesso con delle vocali.\n",
    "\n",
    "Vediamo ora come possiamo sfruttare questo dizionario di conteggi per generare il nostro testo.\n",
    "\n",
    "Dobbiamo partire da un seme, un elemento di testo iniziale.\n",
    "Nel nostro caso, per cercare di rimanere il più generici possibile, useremo uno spazio vuoto."
   ]
  },
  {
   "cell_type": "markdown",
   "metadata": {
    "slideshow": {
     "slide_type": "slide"
    }
   },
   "source": [
    "per poter generare la nuova lettera a partire dalla vecchia, dovremo selezionare soltanto quella parte del nostro dizionario che contiene la nostra lettera come parte iniziale.\n",
    "\n",
    "Possiamo usare la funzione **item** dei dizionari per avere la sequenza delle coppie chiave valore, e filtrarle in base al loro punto di inizio"
   ]
  },
  {
   "cell_type": "code",
   "execution_count": 66,
   "metadata": {
    "collapsed": false,
    "slideshow": {
     "slide_type": "slide"
    }
   },
   "outputs": [
    {
     "name": "stdout",
     "output_type": "stream",
     "text": [
      "dict_items([('a', 1), ('b', 2), ('c', 3)])\n"
     ]
    }
   ],
   "source": [
    "dizionario = {'a':1, 'b':2, 'c':3}\n",
    "print(dizionario.items())"
   ]
  },
  {
   "cell_type": "code",
   "execution_count": 67,
   "metadata": {
    "collapsed": false,
    "slideshow": {
     "slide_type": "slide"
    }
   },
   "outputs": [
    {
     "name": "stdout",
     "output_type": "stream",
     "text": [
      "['b', 'c'] [2, 3]\n"
     ]
    }
   ],
   "source": [
    "chiavi = [c for c, v in dizionario.items() if c in ['b', 'c']]\n",
    "valori = [v for c, v in dizionario.items() if c in ['b', 'c']]\n",
    "print(chiavi, valori)"
   ]
  },
  {
   "cell_type": "code",
   "execution_count": null,
   "metadata": {
    "collapsed": true,
    "slideshow": {
     "slide_type": "slide"
    }
   },
   "outputs": [],
   "source": [
    "ora possiamo fare lo stesso con il nostro vettore dei conteggi"
   ]
  },
  {
   "cell_type": "code",
   "execution_count": 79,
   "metadata": {
    "collapsed": false,
    "slideshow": {
     "slide_type": "slide"
    }
   },
   "outputs": [
    {
     "name": "stdout",
     "output_type": "stream",
     "text": [
      "  q\n",
      "  a\n",
      "  c\n",
      "  t\n",
      "  a\n",
      "  f\n",
      "  m\n",
      "  n\n",
      "  p\n",
      "  i\n"
     ]
    }
   ],
   "source": [
    "nuovo_testo = [' ']\n",
    "for i in range(10):\n",
    "    ultima_lettera = nuovo_testo[-1]\n",
    "    lettere = [c[1] for c, v in conteggi.items() if c[0]==ultima_lettera]\n",
    "    frequenze = [v for c, v in conteggi.items() if c[0]==ultima_lettera]\n",
    "    prossima_lettera = choices(lettere, frequenze)[0]\n",
    "    print(ultima_lettera, prossima_lettera)"
   ]
  },
  {
   "cell_type": "markdown",
   "metadata": {
    "slideshow": {
     "slide_type": "slide"
    }
   },
   "source": [
    "ci siamo dimenticati di attaccare l'ultima lettera generata al nostro testo!"
   ]
  },
  {
   "cell_type": "code",
   "execution_count": 80,
   "metadata": {
    "collapsed": false,
    "slideshow": {
     "slide_type": "slide"
    }
   },
   "outputs": [
    {
     "name": "stdout",
     "output_type": "stream",
     "text": [
      "  c\n",
      "c c\n",
      "c h\n",
      "h a\n",
      "a s\n",
      "s i\n",
      "i u\n",
      "u o\n",
      "o  \n",
      "  s\n"
     ]
    }
   ],
   "source": [
    "nuovo_testo = [' ']\n",
    "for i in range(10):\n",
    "    ultima_lettera = nuovo_testo[-1]\n",
    "    lettere = [c[1] for c, v in conteggi.items() if c[0]==ultima_lettera]\n",
    "    frequenze = [v for c, v in conteggi.items() if c[0]==ultima_lettera]\n",
    "    prossima_lettera = choices(lettere, frequenze)[0]\n",
    "    print(ultima_lettera, prossima_lettera)\n",
    "    nuovo_testo.append(prossima_lettera)"
   ]
  },
  {
   "cell_type": "code",
   "execution_count": 81,
   "metadata": {
    "collapsed": false,
    "slideshow": {
     "slide_type": "slide"
    }
   },
   "outputs": [
    {
     "name": "stdout",
     "output_type": "stream",
     "text": [
      " cchasiuo s\n"
     ]
    }
   ],
   "source": [
    "print(str.join('', nuovo_testo))"
   ]
  },
  {
   "cell_type": "markdown",
   "metadata": {
    "slideshow": {
     "slide_type": "slide"
    }
   },
   "source": [
    "proviamo ora un testo più lungo!"
   ]
  },
  {
   "cell_type": "code",
   "execution_count": 82,
   "metadata": {
    "collapsed": false,
    "slideshow": {
     "slide_type": "slide"
    }
   },
   "outputs": [
    {
     "name": "stdout",
     "output_type": "stream",
     "text": [
      " ntomi fe,\n",
      "der mani,\n",
      "nioven n atorid’ disiaueconossie a che mio.\n",
      "esta coneto, olo, ccch’è dorosùescrenerentoso vetelo lselon giade cor stiatamenintre asananscco\n",
      "nvra ffuossca son aico funereno ronzi i \n"
     ]
    }
   ],
   "source": [
    "nuovo_testo = [' ']\n",
    "for i in range(200):\n",
    "    ultima_lettera = nuovo_testo[-1]\n",
    "    lettere = [c[-1] for c, v in conteggi.items() if c[0]==ultima_lettera]\n",
    "    frequenze = [v for c, v in conteggi.items() if c[0]==ultima_lettera]\n",
    "    prossima_lettera = choices(lettere, frequenze)[0]\n",
    "    nuovo_testo.append(prossima_lettera)\n",
    "print(str.join('', nuovo_testo))"
   ]
  },
  {
   "cell_type": "markdown",
   "metadata": {
    "slideshow": {
     "slide_type": "slide"
    }
   },
   "source": [
    "il risultato lascia ancora a desiderare...\n",
    "\n",
    "proviamo ad estendere alle triplette: in questo caso consideriamo le coppie di lettere come punto di partenza e la nuova lettera sulla base di queste.\n",
    "\n",
    "Dobbiamo però ricostruire il nostro intero dataset dei conteggi."
   ]
  },
  {
   "cell_type": "code",
   "execution_count": 84,
   "metadata": {
    "collapsed": false,
    "slideshow": {
     "slide_type": "slide"
    }
   },
   "outputs": [
    {
     "name": "stdout",
     "output_type": "stream",
     "text": [
      "6059\n",
      "[((' ', 'c', 'h'), 4036), (('c', 'h', 'e'), 3871), (('h', 'e', ' '), 3630), ((' ', 'd', 'i'), 3338), (('.', '\\n', '\\n'), 3171)]\n"
     ]
    }
   ],
   "source": [
    "file = './divinacommedia_cleaned.txt'\n",
    "with open(file, 'r', encoding='utf-8-sig') as testo:\n",
    "    linee = (linea.lower() for linea in testo)\n",
    "    testo = it.chain.from_iterable(linee)\n",
    "    coppie = sliding_window(3, testo)\n",
    "    conteggi = Counter(coppie)\n",
    "print(len(conteggi))\n",
    "print(conteggi.most_common(5))"
   ]
  },
  {
   "cell_type": "markdown",
   "metadata": {
    "slideshow": {
     "slide_type": "slide"
    }
   },
   "source": [
    "il procedimento per generare il testo è assolutamente identico, ma il controllo sarà sulle ultime due lettere e non soltanto sull'ultima."
   ]
  },
  {
   "cell_type": "code",
   "execution_count": 105,
   "metadata": {
    "collapsed": false,
    "slideshow": {
     "slide_type": "slide"
    }
   },
   "outputs": [
    {
     "name": "stdout",
     "output_type": "stream",
     "text": [
      "che,\n",
      "finserfia è li,\n",
      "che sùbidantera rete la or chi sendon vile pire pospretalio ide co ’l la.\n",
      "\n",
      "erri mutai oco,\n",
      "che, chiardispli, «maevi ava\n",
      "pricaglibeata mi facche permar questalcerïattia pin ci ven su\n"
     ]
    }
   ],
   "source": [
    "nuovo_testo = ['c', 'h']\n",
    "for i in range(200):\n",
    "    ultima_lettera = tuple(nuovo_testo[-2:])\n",
    "    lettere = [c[-1] for c, v in conteggi.items() if c[:2]==ultima_lettera]\n",
    "    frequenze = [v for c, v in conteggi.items() if c[:2]==ultima_lettera]\n",
    "    prossima_lettera = choices(lettere, frequenze)[0]\n",
    "    nuovo_testo.append(prossima_lettera)\n",
    "print(str.join('', nuovo_testo))"
   ]
  },
  {
   "cell_type": "markdown",
   "metadata": {
    "slideshow": {
     "slide_type": "slide"
    }
   },
   "source": [
    "Possiamo facilmente estendere questo procedimento ad ancora più lettere.\n",
    "\n",
    "Vedremo che con l'aumentare della lunghezza della sequenza avrò parole sempre più simili all'italiano, ma il numero di casi disponibili calerà sensibilmente!"
   ]
  },
  {
   "cell_type": "code",
   "execution_count": 106,
   "metadata": {
    "collapsed": false,
    "slideshow": {
     "slide_type": "slide"
    }
   },
   "outputs": [
    {
     "name": "stdout",
     "output_type": "stream",
     "text": [
      "nel primando e cozzosa\n",
      "de la cella beatichezzar si virgili sol miglia\n",
      "tu che i parte.\n",
      "\n",
      "e qui sovra frente neggentro da scun diedichi così d’una menti\n",
      "per pare il sazia, ch’un fa l’arra e frato sta\n",
      "lo di \n"
     ]
    }
   ],
   "source": [
    "L = 3\n",
    "file = './divinacommedia_cleaned.txt'\n",
    "with open(file, 'r', encoding='utf-8-sig') as testo:\n",
    "    linee = (linea.lower() for linea in testo)\n",
    "    testo = it.chain.from_iterable(linee)\n",
    "    coppie = sliding_window(L+1, testo)\n",
    "    conteggi = Counter(coppie)\n",
    "    \n",
    "nuovo_testo = ['n', 'e', 'l']\n",
    "for i in range(200):\n",
    "    ultima_lettera = tuple(nuovo_testo[-L:])\n",
    "    lettere = [c[-1] for c, v in conteggi.items() if c[:L]==ultima_lettera]\n",
    "    frequenze = [v for c, v in conteggi.items() if c[:L]==ultima_lettera]\n",
    "    prossima_lettera = choices(lettere, frequenze)[0]\n",
    "    nuovo_testo.append(prossima_lettera)\n",
    "print(str.join('', nuovo_testo))"
   ]
  },
  {
   "cell_type": "markdown",
   "metadata": {
    "slideshow": {
     "slide_type": "slide"
    }
   },
   "source": [
    "posso generalizzare questo procedimento con una funzione per generare dei testi lunghi a piacere, usando una funzione."
   ]
  },
  {
   "cell_type": "code",
   "execution_count": 111,
   "metadata": {
    "collapsed": true,
    "slideshow": {
     "slide_type": "slide"
    }
   },
   "outputs": [],
   "source": [
    "def genera_testo(nuovo_testo='nel', lunghezza=2):\n",
    "    L = lunghezza\n",
    "    nuovo_testo = list(nuovo_testo)\n",
    "    file = './divinacommedia_cleaned.txt'\n",
    "    with open(file, 'r', encoding='utf-8-sig') as testo:\n",
    "        linee = (linea.lower() for linea in testo)\n",
    "        testo = it.chain.from_iterable(linee)\n",
    "        coppie = sliding_window(L+1, testo)\n",
    "        conteggi = Counter(coppie)\n",
    "\n",
    "    while True:\n",
    "        ultima_lettera = tuple(nuovo_testo[-L:])\n",
    "        lettere = [c[-1] for c, v in conteggi.items() if c[:L]==ultima_lettera]\n",
    "        frequenze = [v for c, v in conteggi.items() if c[:L]==ultima_lettera]\n",
    "        prossima_lettera = choices(lettere, frequenze)[0]\n",
    "        nuovo_testo.append(prossima_lettera)\n",
    "        nuovo_testo = nuovo_testo[1:]\n",
    "        yield prossima_lettera\n"
   ]
  },
  {
   "cell_type": "code",
   "execution_count": 115,
   "metadata": {
    "collapsed": false,
    "slideshow": {
     "slide_type": "slide"
    }
   },
   "outputs": [
    {
     "name": "stdout",
     "output_type": "stream",
     "text": [
      " mir e pre ’l den di le.\n",
      "\n",
      "novoi, che, ernigua batte».\n",
      "\n",
      "e noi strea le\n",
      "no a risarlata altosandunfincorissanondo diplo letti poi malpessuanne.\n",
      "\n",
      "e a inangogne\n",
      "lo da:\n",
      "e ’l suro, «che a la, etto vii»,\n",
      "per \n"
     ]
    }
   ],
   "source": [
    "testo = str.join(\"\", it.islice(genera_testo('nel', 2), 200))\n",
    "print(testo)"
   ]
  },
  {
   "cell_type": "code",
   "execution_count": 117,
   "metadata": {
    "collapsed": false,
    "slideshow": {
     "slide_type": "slide"
    }
   },
   "outputs": [
    {
     "name": "stdout",
     "output_type": "stream",
     "text": [
      " me pro sole\n",
      "ze m’altrodo dier tu po»,\n",
      "«pel mi pocche la faletto,\n",
      "né ’l dalci\n",
      "e n’è ch’è quandendoluma sù che te’ el peranto\n",
      "fola io morche po allordo altra lorte;\n",
      "\n",
      "detto.\n",
      "\n",
      "quelli fan puo di livanosop\n"
     ]
    }
   ],
   "source": [
    "testo = str.join(\"\", it.islice(genera_testo('che', 2), 200))\n",
    "print(testo)"
   ]
  },
  {
   "cell_type": "code",
   "execution_count": 116,
   "metadata": {
    "collapsed": false,
    "slideshow": {
     "slide_type": "slide"
    }
   },
   "outputs": [
    {
     "name": "stdout",
     "output_type": "stream",
     "text": [
      "largogne sanza lo suor con le ciascia di tua visole e v’hai».\n",
      "\n",
      "«se nostran perché iero\n",
      "quand’ io mor lo setto risplena,\n",
      "per alchìmia,\n",
      "\n",
      "qual saltre:\n",
      "agusta bra filizia tarda;\n",
      "ma ividio due,\n",
      "nel senti;\n",
      "\n"
     ]
    }
   ],
   "source": [
    "testo = str.join(\"\", it.islice(genera_testo('nel', 3), 200))\n",
    "print(testo)"
   ]
  },
  {
   "cell_type": "code",
   "execution_count": 118,
   "metadata": {
    "collapsed": false,
    "slideshow": {
     "slide_type": "slide"
    }
   },
   "outputs": [
    {
     "name": "stdout",
     "output_type": "stream",
     "text": [
      "tu ch’a cagion ritrarrà vinta ch’è da posso.\n",
      "\n",
      "è che si valie si vostromma\n",
      "fia nature mi di le minòs meos’ io stilo\n",
      "non vicin voi santo rua\n",
      "con tantoana,\n",
      "per che vogliar dipinta?»,\n",
      "che ’l fiamma elli a\n"
     ]
    }
   ],
   "source": [
    "testo = str.join(\"\", it.islice(genera_testo('nel ', 4), 200))\n",
    "print(testo)"
   ]
  },
  {
   "cell_type": "code",
   "execution_count": 120,
   "metadata": {
    "collapsed": false,
    "slideshow": {
     "slide_type": "slide"
    }
   },
   "outputs": [
    {
     "name": "stdout",
     "output_type": "stream",
     "text": [
      "\n",
      "a la bifolco mi cacciati sù, mo nel ciel voto a dir di lei di parnaso,\n",
      "\n",
      "e torre mostra maggio\n",
      "de l’occhi se’ giocondo\n",
      "s’adempia.\n",
      "\n",
      "qui vedrai\n",
      "cosa di comincia’ io di colui che vinse;\n",
      "\n",
      "ma perché ’l buo\n"
     ]
    }
   ],
   "source": [
    "testo = str.join(\"\", it.islice(genera_testo('onore', 5), 200))\n",
    "print(testo)"
   ]
  },
  {
   "cell_type": "markdown",
   "metadata": {
    "slideshow": {
     "slide_type": "slide"
    }
   },
   "source": [
    "Possiamo vedere come il testo generato assomigli all'italiano in modo superficiale, ma le frasi non hanno senso.\n",
    "\n",
    "Potremmo usare la nostra conoscenza dell'esistenza delle parole per generare delle frasi più sensate, ma saremmo sempre ciechi alle strutture di ordine superiore."
   ]
  },
  {
   "cell_type": "code",
   "execution_count": null,
   "metadata": {
    "collapsed": true
   },
   "outputs": [],
   "source": []
  }
 ],
 "metadata": {
  "celltoolbar": "Slideshow",
  "kernelspec": {
   "display_name": "Python 3",
   "language": "python",
   "name": "python3"
  },
  "language_info": {
   "codemirror_mode": {
    "name": "ipython",
    "version": 3
   },
   "file_extension": ".py",
   "mimetype": "text/x-python",
   "name": "python",
   "nbconvert_exporter": "python",
   "pygments_lexer": "ipython3",
   "version": "3.6.0"
  }
 },
 "nbformat": 4,
 "nbformat_minor": 2
}
