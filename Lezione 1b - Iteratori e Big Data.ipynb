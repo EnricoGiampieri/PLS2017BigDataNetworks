{
 "cells": [
  {
   "cell_type": "markdown",
   "metadata": {
    "slideshow": {
     "slide_type": "slide"
    }
   },
   "source": [
    "## Big Data e Big Problem\n",
    "Normalmente si può trovare come definizione di big data la seguente:\n",
    "\n",
    "    I dati sono troppo grandi per entrare in memoria/disco rigido\n",
    "    \n",
    "Esiste però un altro problema Big:\n",
    "\n",
    "    anche su dati piccoli, il mio modello potrebbe richiedere più\n",
    "    risorse di quelle a mia disposizione"
   ]
  },
  {
   "cell_type": "markdown",
   "metadata": {
    "slideshow": {
     "slide_type": "slide"
    }
   },
   "source": [
    "## Nei big data dobbiamo fare delle scelte\n",
    "\n",
    "Semplificando, ci sono 3 variabili nel nostro sistema:\n",
    "\n",
    "* il tempo che siamo disponibili ad aspettare\n",
    "* lo spazio su RAM che siamo disponibili ad allocare\n",
    "* l'ammontare di informazioni che vogliamo ottenere (statistical power)\n",
    "\n",
    "Tanto più ottimizziamo uno di questi parametri, tanto più ci rimettiamo negli altri due."
   ]
  },
  {
   "cell_type": "markdown",
   "metadata": {
    "slideshow": {
     "slide_type": "slide"
    }
   },
   "source": [
    "<img src=\"https://github.com/EnricoGiampieri/PLS2017BigDataNetworks/raw/master/notebookfiles/power_triangle.png\" width=\"400\"/>"
   ]
  },
  {
   "cell_type": "markdown",
   "metadata": {
    "slideshow": {
     "slide_type": "slide"
    }
   },
   "source": [
    "<img src=\"https://github.com/EnricoGiampieri/PLS2017BigDataNetworks/raw/master/notebookfiles/tradeoff_spazio_velocita.png\" width=\"600\"/>\n",
    "\n"
   ]
  },
  {
   "cell_type": "markdown",
   "metadata": {
    "collapsed": true,
    "slideshow": {
     "slide_type": "slide"
    }
   },
   "source": [
    "Inoltre, vedremo poi, che tanto più ottimizzeremo il nostro codice, tanto più difficile sarà mantenerlo nel tempo.\n",
    "La comprensibilità del nostro codice ha un costo quantificabile!\n",
    "\n",
    "Questo schema non tiene conto anche di altri fattori:\n",
    "\n",
    "* il tradoff fra memoria su disco e su RAM\n",
    "* il tempo che serve all'analista per produrre il codice"
   ]
  },
  {
   "cell_type": "markdown",
   "metadata": {
    "slideshow": {
     "slide_type": "slide"
    }
   },
   "source": [
    "## un problema di esempio - rinominare i file di una collezione audio\n",
    "\n",
    "Ovviamente si tratta di un problema giocattolo.\n",
    "\n",
    "Cosa succederebbe se i file non sono qualche centinaio, ma qualche milione?\n",
    "\n",
    "E se per ciascun file non dovessi solo rinominare, ma fare analisi complicate?\n",
    "\n",
    "I principi rimangono gli stessi, soltanto più estremi."
   ]
  },
  {
   "cell_type": "code",
   "execution_count": 30,
   "metadata": {
    "slideshow": {
     "slide_type": "slide"
    }
   },
   "outputs": [],
   "source": [
    "!rm -fR notebookfiles/fakeaudio\n",
    "!mkdir -p notebookfiles/fakeaudio\n",
    "!mkdir -p notebookfiles/fakeaudio/Albums/PinkFloyd/TheWall\n",
    "!touch notebookfiles/fakeaudio/Albums/PinkFloyd/TheWall/The\\ Thin\\ Ice.MP3\n",
    "!touch notebookfiles/fakeaudio/Albums/PinkFloyd/TheWall/Another\\ Brick\\ In\\ The\\ Wall\\ -\\ Part\\ 1.MP3\n",
    "!mkdir -p notebookfiles/fakeaudio/OST/TheBindingOfIsaac/Rebirth/\n",
    "!touch notebookfiles/fakeaudio/OST/TheBindingOfIsaac/Rebirth/My\\ Innermost\\ Apocalypse.MP3\n",
    "!touch notebookfiles/fakeaudio/OST/TheBindingOfIsaac/Rebirth/NONTOCCARE.TXT\n",
    "!echo \"un testo inutile\" > notebookfiles/fakeaudio/OST/TheBindingOfIsaac/Rebirth/NONTOCCARE.TXT"
   ]
  },
  {
   "cell_type": "code",
   "execution_count": 31,
   "metadata": {
    "slideshow": {
     "slide_type": "slide"
    }
   },
   "outputs": [
    {
     "name": "stdout",
     "output_type": "stream",
     "text": [
      "notebookfiles/fakeaudio/:\r\n",
      "total 8\r\n",
      "drwxrwxr-x 3 enrico enrico 4096 gen 31 15:11 Albums\r\n",
      "drwxrwxr-x 3 enrico enrico 4096 gen 31 15:11 OST\r\n",
      "\r\n",
      "notebookfiles/fakeaudio/Albums:\r\n",
      "total 4\r\n",
      "drwxrwxr-x 3 enrico enrico 4096 gen 31 15:11 PinkFloyd\r\n",
      "\r\n",
      "notebookfiles/fakeaudio/Albums/PinkFloyd:\r\n",
      "total 4\r\n",
      "drwxrwxr-x 2 enrico enrico 4096 gen 31 15:11 TheWall\r\n",
      "\r\n",
      "notebookfiles/fakeaudio/Albums/PinkFloyd/TheWall:\r\n",
      "total 0\r\n",
      "-rw-rw-r-- 1 enrico enrico 0 gen 31 15:11 Another Brick In The Wall - Part 1.MP3\r\n",
      "-rw-rw-r-- 1 enrico enrico 0 gen 31 15:11 The Thin Ice.MP3\r\n",
      "\r\n",
      "notebookfiles/fakeaudio/OST:\r\n",
      "total 4\r\n",
      "drwxrwxr-x 3 enrico enrico 4096 gen 31 15:11 TheBindingOfIsaac\r\n",
      "\r\n",
      "notebookfiles/fakeaudio/OST/TheBindingOfIsaac:\r\n",
      "total 4\r\n",
      "drwxrwxr-x 2 enrico enrico 4096 gen 31 15:11 Rebirth\r\n",
      "\r\n",
      "notebookfiles/fakeaudio/OST/TheBindingOfIsaac/Rebirth:\r\n",
      "total 4\r\n",
      "-rw-rw-r-- 1 enrico enrico  0 gen 31 15:11 My Innermost Apocalypse.MP3\r\n",
      "-rw-rw-r-- 1 enrico enrico 17 gen 31 15:11 NONTOCCARE.TXT\r\n"
     ]
    }
   ],
   "source": [
    "!ls -lR notebookfiles/fakeaudio/"
   ]
  },
  {
   "cell_type": "code",
   "execution_count": 32,
   "metadata": {
    "collapsed": true,
    "slideshow": {
     "slide_type": "slide"
    }
   },
   "outputs": [],
   "source": [
    "import os"
   ]
  },
  {
   "cell_type": "code",
   "execution_count": 33,
   "metadata": {
    "slideshow": {
     "slide_type": "fragment"
    }
   },
   "outputs": [
    {
     "name": "stdout",
     "output_type": "stream",
     "text": [
      "\n",
      "./notebookfiles/fakeaudio/\n",
      "['Albums', 'OST']\n",
      "[]\n",
      "\n",
      "./notebookfiles/fakeaudio/Albums\n",
      "['PinkFloyd']\n",
      "[]\n",
      "\n",
      "./notebookfiles/fakeaudio/Albums/PinkFloyd\n",
      "['TheWall']\n",
      "[]\n",
      "\n",
      "./notebookfiles/fakeaudio/Albums/PinkFloyd/TheWall\n",
      "[]\n",
      "['The Thin Ice.MP3', 'Another Brick In The Wall - Part 1.MP3']\n",
      "\n",
      "./notebookfiles/fakeaudio/OST\n",
      "['TheBindingOfIsaac']\n",
      "[]\n",
      "\n",
      "./notebookfiles/fakeaudio/OST/TheBindingOfIsaac\n",
      "['Rebirth']\n",
      "[]\n",
      "\n",
      "./notebookfiles/fakeaudio/OST/TheBindingOfIsaac/Rebirth\n",
      "[]\n",
      "['NONTOCCARE.TXT', 'My Innermost Apocalypse.MP3']\n"
     ]
    }
   ],
   "source": [
    "directory = \"./notebookfiles/fakeaudio/\"\n",
    "for basepath, listdir, listfiles in os.walk(directory):\n",
    "    print()\n",
    "    print(basepath)\n",
    "    print(listdir)\n",
    "    print(listfiles)"
   ]
  },
  {
   "cell_type": "code",
   "execution_count": 34,
   "metadata": {
    "collapsed": true,
    "slideshow": {
     "slide_type": "slide"
    }
   },
   "outputs": [],
   "source": [
    "directory = \"./notebookfiles/fakeaudio/\"\n",
    "for basepath, listdir, listfiles in os.walk(directory):\n",
    "    for filename in listfiles:\n",
    "        new_filename = filename.lower()\n",
    "        os.rename(os.path.join(basepath, filename),\n",
    "                  os.path.join(basepath, new_filename))"
   ]
  },
  {
   "cell_type": "code",
   "execution_count": 35,
   "metadata": {
    "slideshow": {
     "slide_type": "slide"
    }
   },
   "outputs": [
    {
     "name": "stdout",
     "output_type": "stream",
     "text": [
      "notebookfiles/fakeaudio/:\r\n",
      "total 8\r\n",
      "drwxrwxr-x 3 enrico enrico 4096 gen 31 15:11 Albums\r\n",
      "drwxrwxr-x 3 enrico enrico 4096 gen 31 15:11 OST\r\n",
      "\r\n",
      "notebookfiles/fakeaudio/Albums:\r\n",
      "total 4\r\n",
      "drwxrwxr-x 3 enrico enrico 4096 gen 31 15:11 PinkFloyd\r\n",
      "\r\n",
      "notebookfiles/fakeaudio/Albums/PinkFloyd:\r\n",
      "total 4\r\n",
      "drwxrwxr-x 2 enrico enrico 4096 gen 31 15:11 TheWall\r\n",
      "\r\n",
      "notebookfiles/fakeaudio/Albums/PinkFloyd/TheWall:\r\n",
      "total 0\r\n",
      "-rw-rw-r-- 1 enrico enrico 0 gen 31 15:11 another brick in the wall - part 1.mp3\r\n",
      "-rw-rw-r-- 1 enrico enrico 0 gen 31 15:11 the thin ice.mp3\r\n",
      "\r\n",
      "notebookfiles/fakeaudio/OST:\r\n",
      "total 4\r\n",
      "drwxrwxr-x 3 enrico enrico 4096 gen 31 15:11 TheBindingOfIsaac\r\n",
      "\r\n",
      "notebookfiles/fakeaudio/OST/TheBindingOfIsaac:\r\n",
      "total 4\r\n",
      "drwxrwxr-x 2 enrico enrico 4096 gen 31 15:11 Rebirth\r\n",
      "\r\n",
      "notebookfiles/fakeaudio/OST/TheBindingOfIsaac/Rebirth:\r\n",
      "total 4\r\n",
      "-rw-rw-r-- 1 enrico enrico  0 gen 31 15:11 my innermost apocalypse.mp3\r\n",
      "-rw-rw-r-- 1 enrico enrico 17 gen 31 15:11 nontoccare.txt\r\n"
     ]
    }
   ],
   "source": [
    "!ls -lR notebookfiles/fakeaudio/"
   ]
  },
  {
   "cell_type": "markdown",
   "metadata": {
    "slideshow": {
     "slide_type": "slide"
    }
   },
   "source": [
    "qui però sto anche cambiando il nome a tutti i file che sono presenti nelle directory, anche se non sono dei file audio!"
   ]
  },
  {
   "cell_type": "code",
   "execution_count": 36,
   "metadata": {
    "collapsed": true,
    "slideshow": {
     "slide_type": "slide"
    }
   },
   "outputs": [],
   "source": [
    "!rm -fR notebookfiles/fakeaudio\n",
    "!mkdir -p notebookfiles/fakeaudio\n",
    "!mkdir -p notebookfiles/fakeaudio/Albums/PinkFloyd/TheWall\n",
    "!touch notebookfiles/fakeaudio/Albums/PinkFloyd/TheWall/The\\ Thin\\ Ice.MP3\n",
    "!touch notebookfiles/fakeaudio/Albums/PinkFloyd/TheWall/Another\\ Brick\\ In\\ The\\ Wall\\ -\\ Part\\ 1.MP3\n",
    "!mkdir -p notebookfiles/fakeaudio/OST/TheBindingOfIsaac/Rebirth/\n",
    "!touch notebookfiles/fakeaudio/OST/TheBindingOfIsaac/Rebirth/My\\ Innermost\\ Apocalypse.MP3\n",
    "!touch notebookfiles/fakeaudio/OST/TheBindingOfIsaac/Rebirth/NONTOCCARE.TXT\n",
    "!echo \"un testo inutile\" > notebookfiles/fakeaudio/OST/TheBindingOfIsaac/Rebirth/NONTOCCARE.TXT"
   ]
  },
  {
   "cell_type": "code",
   "execution_count": 37,
   "metadata": {
    "collapsed": true,
    "slideshow": {
     "slide_type": "slide"
    }
   },
   "outputs": [],
   "source": [
    "directory = \"./notebookfiles/fakeaudio/\"\n",
    "for basepath, listdir, listfiles in os.walk(directory):\n",
    "    for filename in listfiles:\n",
    "        if filename.lower().endswith('mp3'):\n",
    "            #new_filename = filename.lower()\n",
    "            #os.rename(os.path.join(basepath, filename),\n",
    "            #          os.path.join(basepath, new_filename))\n",
    "            print(os.path.join(basepath, filename))"
   ]
  },
  {
   "cell_type": "code",
   "execution_count": 38,
   "metadata": {
    "slideshow": {
     "slide_type": "slide"
    }
   },
   "outputs": [
    {
     "name": "stdout",
     "output_type": "stream",
     "text": [
      "notebookfiles/fakeaudio/:\r\n",
      "total 8\r\n",
      "drwxrwxr-x 3 enrico enrico 4096 gen 31 15:11 Albums\r\n",
      "drwxrwxr-x 3 enrico enrico 4096 gen 31 15:11 OST\r\n",
      "\r\n",
      "notebookfiles/fakeaudio/Albums:\r\n",
      "total 4\r\n",
      "drwxrwxr-x 3 enrico enrico 4096 gen 31 15:11 PinkFloyd\r\n",
      "\r\n",
      "notebookfiles/fakeaudio/Albums/PinkFloyd:\r\n",
      "total 4\r\n",
      "drwxrwxr-x 2 enrico enrico 4096 gen 31 15:11 TheWall\r\n",
      "\r\n",
      "notebookfiles/fakeaudio/Albums/PinkFloyd/TheWall:\r\n",
      "total 0\r\n",
      "-rw-rw-r-- 1 enrico enrico 0 gen 31 15:11 another brick in the wall - part 1.mp3\r\n",
      "-rw-rw-r-- 1 enrico enrico 0 gen 31 15:11 the thin ice.mp3\r\n",
      "\r\n",
      "notebookfiles/fakeaudio/OST:\r\n",
      "total 4\r\n",
      "drwxrwxr-x 3 enrico enrico 4096 gen 31 15:11 TheBindingOfIsaac\r\n",
      "\r\n",
      "notebookfiles/fakeaudio/OST/TheBindingOfIsaac:\r\n",
      "total 4\r\n",
      "drwxrwxr-x 2 enrico enrico 4096 gen 31 15:11 Rebirth\r\n",
      "\r\n",
      "notebookfiles/fakeaudio/OST/TheBindingOfIsaac/Rebirth:\r\n",
      "total 4\r\n",
      "-rw-rw-r-- 1 enrico enrico  0 gen 31 15:11 my innermost apocalypse.mp3\r\n",
      "-rw-rw-r-- 1 enrico enrico 17 gen 31 15:11 NONTOCCARE.TXT\r\n"
     ]
    }
   ],
   "source": [
    "!ls -lR notebookfiles/fakeaudio/"
   ]
  },
  {
   "cell_type": "markdown",
   "metadata": {
    "slideshow": {
     "slide_type": "slide"
    }
   },
   "source": [
    "Queste sono tre operazioni fondalmentali per l'analisi dati:\n",
    "\n",
    "* iterazione lazy\n",
    "* map (ripeti un'operazione su tutti gli elementi)\n",
    "* filter (seleziona solo una parte degli elementi)\n",
    "\n",
    "altri tipi di operazioni che discuteremo saranno:\n",
    "\n",
    "* reduce (comporre insieme gli elementi)\n",
    "* functional programming\n"
   ]
  },
  {
   "cell_type": "markdown",
   "metadata": {
    "slideshow": {
     "slide_type": "slide"
    }
   },
   "source": [
    "## Iterazione Lazy\n",
    "\n",
    "che cosa intendiamo con iterazione **lazy**?\n",
    "\n",
    "le operazioni non vengono compiute finchè il risultato non è richiesto!!"
   ]
  },
  {
   "cell_type": "markdown",
   "metadata": {
    "slideshow": {
     "slide_type": "slide"
    }
   },
   "source": [
    "In Python questa cosa è gestita da degli oggetti chiamati **iteratori**.\n",
    "\n",
    "Sono gli oggetti su cui faccio i cicli **for**.\n",
    "\n",
    "Un iteratore può essere percorso una volta sola!"
   ]
  },
  {
   "cell_type": "markdown",
   "metadata": {
    "slideshow": {
     "slide_type": "fragment"
    }
   },
   "source": [
    "Questo è controintuitivo: se provo a fare un ciclo for su di una lista, lo posso fare quante volte voglio"
   ]
  },
  {
   "cell_type": "code",
   "execution_count": 39,
   "metadata": {
    "slideshow": {
     "slide_type": "slide"
    }
   },
   "outputs": [
    {
     "name": "stdout",
     "output_type": "stream",
     "text": [
      "--- prima iterazione ---\n",
      "1\n",
      "2\n",
      "3\n",
      "--- seconda iterazione ---\n",
      "1\n",
      "2\n",
      "3\n"
     ]
    }
   ],
   "source": [
    "lista = [1, 2, 3]\n",
    "print(\"--- prima iterazione ---\")\n",
    "for elemento in lista:\n",
    "    print(elemento)\n",
    "print(\"--- seconda iterazione ---\")\n",
    "for elemento in lista:\n",
    "    print(elemento)"
   ]
  },
  {
   "cell_type": "markdown",
   "metadata": {
    "slideshow": {
     "slide_type": "slide"
    }
   },
   "source": [
    "ma se provo a farlo su di un file, lo posso leggere una volta sola!\n",
    "\n",
    "Se volessi rileggerlo, dovrei aprirlo di nuovo!"
   ]
  },
  {
   "cell_type": "code",
   "execution_count": 40,
   "metadata": {
    "slideshow": {
     "slide_type": "fragment"
    }
   },
   "outputs": [
    {
     "name": "stdout",
     "output_type": "stream",
     "text": [
      "--- prima iterazione ---\n",
      "'un testo inutile\\n'\n",
      "--- seconda iterazione ---\n"
     ]
    }
   ],
   "source": [
    "directory = \"./notebookfiles/fakeaudio/OST/TheBindingOfIsaac/Rebirth/\"\n",
    "filename = \"NONTOCCARE.TXT\"\n",
    "position= os.path.join(directory, filename)\n",
    "with open(position) as file:\n",
    "    print(\"--- prima iterazione ---\")\n",
    "    for line in file:\n",
    "        print(repr(line))\n",
    "    print(\"--- seconda iterazione ---\")\n",
    "    for line in file:\n",
    "        print(repr(line))"
   ]
  },
  {
   "cell_type": "markdown",
   "metadata": {
    "slideshow": {
     "slide_type": "slide"
    }
   },
   "source": [
    "Python ce lo nasconde, ma in realtà ogni volta che iteriamo sulla lista lui crea un nuovo iteratore che scorre la lista e poi scompare.\n",
    "\n",
    "Possiamo farlo esplicitamente con il comando **iter**"
   ]
  },
  {
   "cell_type": "code",
   "execution_count": 42,
   "metadata": {
    "slideshow": {
     "slide_type": "fragment"
    }
   },
   "outputs": [
    {
     "name": "stdout",
     "output_type": "stream",
     "text": [
      "prima iterazione\n",
      "1\n",
      "2\n",
      "3\n",
      "seconda iterazione\n"
     ]
    }
   ],
   "source": [
    "lista = [1, 2, 3]\n",
    "iteratore_lista = iter(lista)\n",
    "print(\"prima iterazione\")\n",
    "for elemento in iteratore_lista:\n",
    "    print(elemento)\n",
    "print(\"seconda iterazione\")\n",
    "for elemento in iteratore_lista:\n",
    "    print(elemento)"
   ]
  },
  {
   "cell_type": "markdown",
   "metadata": {
    "collapsed": true,
    "slideshow": {
     "slide_type": "slide"
    }
   },
   "source": [
    "Sottolineare quando le iterazioni non necessitano di caricare l'intero dataset è importante perchè non è sempre vero.\n",
    "\n",
    "Supponiamo di voler calcolare tutte le combinazioni di elementi di una sequenza: non possiamo risolvere questo problema senza tenere in memoria l'intera sequenza!"
   ]
  },
  {
   "cell_type": "markdown",
   "metadata": {
    "collapsed": true,
    "slideshow": {
     "slide_type": "slide"
    }
   },
   "source": [
    "## Map\n",
    "\n",
    "Un tipo di operazione molto frequente sulle sequenze è il cosiddetto **mapping**, ovvero applicare una funzione a tutti gli elementi di una lista, uno alla volta ed indipendentemente dagli altri.\n",
    "\n",
    "Ad esempio, avendo una serie di numeri, potrei voler prendere il quadrato di ciascuno."
   ]
  },
  {
   "cell_type": "code",
   "execution_count": 46,
   "metadata": {
    "slideshow": {
     "slide_type": "fragment"
    }
   },
   "outputs": [
    {
     "name": "stdout",
     "output_type": "stream",
     "text": [
      "[0, 1, 4, 9, 16, 25, 36]\n"
     ]
    }
   ],
   "source": [
    "numeri = [0, 1, 2, 3, 4, 5, 6]\n",
    "quadrati = []\n",
    "for numero in numeri:\n",
    "    quadrato = numero **2\n",
    "    quadrati.append(quadrato)\n",
    "    \n",
    "print(quadrati)"
   ]
  },
  {
   "cell_type": "markdown",
   "metadata": {
    "slideshow": {
     "slide_type": "slide"
    }
   },
   "source": [
    "Questo può essere espresso in modo pi conciso con una *comprehension*, che è funzionalmente identica al ciclo visto prima, ma più sintetica"
   ]
  },
  {
   "cell_type": "code",
   "execution_count": 51,
   "metadata": {
    "slideshow": {
     "slide_type": "fragment"
    }
   },
   "outputs": [
    {
     "name": "stdout",
     "output_type": "stream",
     "text": [
      "[0, 1, 4, 9, 16, 25, 36]\n"
     ]
    }
   ],
   "source": [
    "numeri = [0, 1, 2, 3, 4, 5, 6]\n",
    "quadrati = [x**2 for x in numeri]\n",
    "print(quadrati)"
   ]
  },
  {
   "cell_type": "markdown",
   "metadata": {
    "slideshow": {
     "slide_type": "slide"
    }
   },
   "source": [
    "il concetto di **map** è un'astrazione di questo procedimento.\n",
    "\n",
    "Python fornisce una funzione, chiamata appunto **map**, che prende una funzione ed un iteratore e ritorna un iteratore i cui elementi sono il risultato dell'operazione"
   ]
  },
  {
   "cell_type": "code",
   "execution_count": 53,
   "metadata": {
    "slideshow": {
     "slide_type": "fragment"
    }
   },
   "outputs": [
    {
     "name": "stdout",
     "output_type": "stream",
     "text": [
      "<map object at 0x7f24475c2550>\n"
     ]
    }
   ],
   "source": [
    "def quadrato(n):\n",
    "    return n**2\n",
    "\n",
    "numeri = [0, 1, 2, 3, 4, 5, 6]\n",
    "quadrati = map(quadrato, numeri)\n",
    "print(quadrati)"
   ]
  },
  {
   "cell_type": "markdown",
   "metadata": {
    "slideshow": {
     "slide_type": "fragment"
    }
   },
   "source": [
    "ricordiamoci che il risultato delle operazioni sugli iteratori, quando possibile, è a sua volta un iteratore!\n",
    "\n",
    "siamo noi che dobbiamo esplicitamente **concretizzare** l'iterazione"
   ]
  },
  {
   "cell_type": "code",
   "execution_count": 54,
   "metadata": {
    "slideshow": {
     "slide_type": "fragment"
    }
   },
   "outputs": [
    {
     "data": {
      "text/plain": [
       "[0, 1, 4, 9, 16, 25, 36]"
      ]
     },
     "execution_count": 54,
     "metadata": {},
     "output_type": "execute_result"
    }
   ],
   "source": [
    "list(quadrati)"
   ]
  },
  {
   "cell_type": "markdown",
   "metadata": {
    "slideshow": {
     "slide_type": "slide"
    }
   },
   "source": [
    "ricordiamoci che l'iterazione è compiuta una volta sola, quindi se vogliamo il risultato dobbiamo salvarcelo alla prima concretizzazione!"
   ]
  },
  {
   "cell_type": "code",
   "execution_count": 55,
   "metadata": {
    "slideshow": {
     "slide_type": "fragment"
    }
   },
   "outputs": [
    {
     "data": {
      "text/plain": [
       "[]"
      ]
     },
     "execution_count": 55,
     "metadata": {},
     "output_type": "execute_result"
    }
   ],
   "source": [
    "list(quadrati)"
   ]
  },
  {
   "cell_type": "markdown",
   "metadata": {
    "slideshow": {
     "slide_type": "slide"
    }
   },
   "source": [
    "## Filter\n",
    "\n",
    "in modo simile il concetto di **filter** è piuttosto semplice: seleziono un sottoinsieme dei miei dati, generando un secondo iteratore."
   ]
  },
  {
   "cell_type": "code",
   "execution_count": 56,
   "metadata": {
    "slideshow": {
     "slide_type": "fragment"
    }
   },
   "outputs": [
    {
     "name": "stdout",
     "output_type": "stream",
     "text": [
      "[1, 2]\n"
     ]
    }
   ],
   "source": [
    "numeri = [-2, -1, 0, 1, 2]\n",
    "positivi = []\n",
    "for numero in numeri:\n",
    "    if numero>0:\n",
    "        positivi.append(numero)\n",
    "\n",
    "print(positivi)"
   ]
  },
  {
   "cell_type": "markdown",
   "metadata": {
    "slideshow": {
     "slide_type": "slide"
    }
   },
   "source": [
    "in modo simile all'operazione di **map**, anche l'operazione di **filter** ha un costrutto nel linguaggio tramite le *comprehension*"
   ]
  },
  {
   "cell_type": "code",
   "execution_count": 57,
   "metadata": {
    "slideshow": {
     "slide_type": "fragment"
    }
   },
   "outputs": [
    {
     "name": "stdout",
     "output_type": "stream",
     "text": [
      "[1, 2]\n"
     ]
    }
   ],
   "source": [
    "numeri = [-2, -1, 0, 1, 2]\n",
    "positivi = [x for x in numeri if x>0]\n",
    "print(positivi)"
   ]
  },
  {
   "cell_type": "markdown",
   "metadata": {
    "slideshow": {
     "slide_type": "slide"
    }
   },
   "source": [
    "ed esattamente come prima, abbiamo una funzione che prende una funzione di filtro (che ci dice se l'elemento è accettabile o no) e la applica ad un operatore"
   ]
  },
  {
   "cell_type": "code",
   "execution_count": 60,
   "metadata": {
    "slideshow": {
     "slide_type": "fragment"
    }
   },
   "outputs": [
    {
     "name": "stdout",
     "output_type": "stream",
     "text": [
      "[1, 2]\n"
     ]
    }
   ],
   "source": [
    "def is_positive(n):\n",
    "    return n>0\n",
    "\n",
    "positivi = filter(is_positive, numeri)\n",
    "print(list(positivi))"
   ]
  },
  {
   "cell_type": "markdown",
   "metadata": {
    "slideshow": {
     "slide_type": "slide"
    }
   },
   "source": [
    "## Reduce\n",
    "\n",
    "questa operazione combina gli elementi di un iteratore in un elemento unico"
   ]
  },
  {
   "cell_type": "code",
   "execution_count": 61,
   "metadata": {
    "slideshow": {
     "slide_type": "fragment"
    }
   },
   "outputs": [
    {
     "name": "stdout",
     "output_type": "stream",
     "text": [
      "10\n"
     ]
    }
   ],
   "source": [
    "numeri = [1, 2, 3, 4]\n",
    "totale = 0\n",
    "for numero in numeri:\n",
    "    totale += numero\n",
    "    \n",
    "print(totale)"
   ]
  },
  {
   "cell_type": "markdown",
   "metadata": {
    "slideshow": {
     "slide_type": "slide"
    }
   },
   "source": [
    "come per casi precedenti, esiste una funzione preesistente per effettuare le operazioni di riduzione"
   ]
  },
  {
   "cell_type": "code",
   "execution_count": 64,
   "metadata": {
    "slideshow": {
     "slide_type": "fragment"
    }
   },
   "outputs": [
    {
     "name": "stdout",
     "output_type": "stream",
     "text": [
      "10\n"
     ]
    }
   ],
   "source": [
    "from functools import reduce\n",
    "\n",
    "def somma(a, b):\n",
    "    return a+b\n",
    "\n",
    "numeri = [1, 2, 3, 4]\n",
    "totale = reduce(somma, numeri, 0)\n",
    "print(totale)"
   ]
  },
  {
   "cell_type": "markdown",
   "metadata": {
    "slideshow": {
     "slide_type": "slide"
    }
   },
   "source": [
    "Questo tipo di operazioni è così comune che ci sono una serie di operazioni predefinite:\n",
    "\n",
    "* **sum** per la somma\n",
    "* **min** e **max** per il minimo e massimo\n",
    "\n",
    "e così via"
   ]
  },
  {
   "cell_type": "markdown",
   "metadata": {
    "slideshow": {
     "slide_type": "slide"
    }
   },
   "source": [
    "una tipica riduzione, che useremo molto, è la stima delle frequenze."
   ]
  },
  {
   "cell_type": "code",
   "execution_count": 71,
   "metadata": {
    "slideshow": {
     "slide_type": "fragment"
    }
   },
   "outputs": [
    {
     "data": {
      "text/plain": [
       "Counter({1: 3, 2: 2, 3: 2, 4: 5})"
      ]
     },
     "execution_count": 71,
     "metadata": {},
     "output_type": "execute_result"
    }
   ],
   "source": [
    "from collections import Counter\n",
    "numeri = [1, 1, 1, 2, 2, 3, 3, 4, 4, 4, 4, 4]\n",
    "Counter(numeri)"
   ]
  },
  {
   "cell_type": "markdown",
   "metadata": {
    "slideshow": {
     "slide_type": "fragment"
    }
   },
   "source": [
    "Una proprietà importante delle riduzioni è che i risultati si possono combinare: dati i conteggi su due serie, posso sommare insieme i due conteggi ed ottenere i conteggi totali fra le due serie"
   ]
  },
  {
   "cell_type": "markdown",
   "metadata": {
    "slideshow": {
     "slide_type": "slide"
    }
   },
   "source": [
    "## Map Reduce\n",
    "\n",
    "il famoso metodo MAP-REDUCE è una combinazione di queste idee:\n",
    "\n",
    "* prendo una sequenza, la divido in sottosequenze\n",
    "* invio le sequenze a diversi computer\n",
    "* compio una riduzione su ciascuna sottosequenza\n",
    "* raccolgo le sottosequenze e le combino insieme\n",
    "* tutto questo fatto in modo ricorsivo"
   ]
  },
  {
   "cell_type": "code",
   "execution_count": null,
   "metadata": {
    "collapsed": true
   },
   "outputs": [],
   "source": []
  }
 ],
 "metadata": {
  "celltoolbar": "Slideshow",
  "kernelspec": {
   "display_name": "Python 3",
   "language": "python",
   "name": "python3"
  },
  "language_info": {
   "codemirror_mode": {
    "name": "ipython",
    "version": 3
   },
   "file_extension": ".py",
   "mimetype": "text/x-python",
   "name": "python",
   "nbconvert_exporter": "python",
   "pygments_lexer": "ipython3",
   "version": "3.6.1"
  }
 },
 "nbformat": 4,
 "nbformat_minor": 2
}
