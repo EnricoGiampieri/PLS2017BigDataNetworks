{
 "cells": [
  {
   "cell_type": "markdown",
   "metadata": {
    "collapsed": true
   },
   "source": [
    "## Big Data e Big Problem\n",
    "Normalmente si può trovare come definizione di big data la seguente:\n",
    "\n",
    "    I dati sono troppo grandi per entrare in memoria/disco rigido\n",
    "    \n",
    "Esiste però un altro problema Big:\n",
    "\n",
    "    anche su dati piccoli, il mio modello potrebbe richiedere più risorse di quelle a mia disposizione\n",
    "\n",
    "## Nei big data dobbiamo fare delle scelte\n",
    "\n",
    "Semplificando, ci sono 3 variabili nel nostro sistema:\n",
    "\n",
    "* il tempo che siamo disponibili ad aspettare\n",
    "* lo spazio su disco o su memoria che siamo disponibili ad allocare\n",
    "* l'ammontare di informazioni che vogliamo ottenere (statistical power)\n",
    "\n",
    "Tanto più ottimizziamo uno di questi parametri, tanto più ci rimettiamo negli altri due.\n",
    "\n",
    "<img src=\"https://github.com/EnricoGiampieri/PLS2017BigDataNetworks/raw/master/notebookfiles/power_triangle.png\" width=\"400\"/>\n",
    "\n",
    "Inoltre, vedremo poi, che tanto più ottimizzeremo il nostro codice, tanto più difficile sarà mantenerlo nel tempo.\n",
    "La comprensibilità del nostro codice ha un costo quantificabile!"
   ]
  },
  {
   "cell_type": "markdown",
   "metadata": {},
   "source": [
    "## un problema di esempio - rinominare i file di una collezione audio"
   ]
  },
  {
   "cell_type": "code",
   "execution_count": 51,
   "metadata": {
    "collapsed": false
   },
   "outputs": [],
   "source": [
    "!rm -fR notebookfiles/fakeaudio\n",
    "!mkdir -p notebookfiles/fakeaudio\n",
    "!mkdir -p notebookfiles/fakeaudio/Albums/PinkFloyd/TheWall\n",
    "!touch notebookfiles/fakeaudio/Albums/PinkFloyd/TheWall/The\\ Thin\\ Ice.MP3\n",
    "!touch notebookfiles/fakeaudio/Albums/PinkFloyd/TheWall/Another\\ Brick\\ In\\ The\\ Wall\\ -\\ Part\\ 1.MP3\n",
    "!mkdir -p notebookfiles/fakeaudio/OST/TheBindingOfIsaac/Rebirth/\n",
    "!touch notebookfiles/fakeaudio/OST/TheBindingOfIsaac/Rebirth/My\\ Innermost\\ Apocalypse.MP3\n",
    "!touch notebookfiles/fakeaudio/OST/TheBindingOfIsaac/Rebirth/NONTOCCARE.TXT\n",
    "!echo \"un testo inutile\" > notebookfiles/fakeaudio/OST/TheBindingOfIsaac/Rebirth/NONTOCCARE.TXT"
   ]
  },
  {
   "cell_type": "code",
   "execution_count": 39,
   "metadata": {
    "collapsed": false
   },
   "outputs": [
    {
     "name": "stdout",
     "output_type": "stream",
     "text": [
      "notebookfiles/fakeaudio/:\r\n",
      "total 8\r\n",
      "drwxrwxr-x 3 enrico enrico 4096 gen 26 14:05 Albums\r\n",
      "drwxrwxr-x 3 enrico enrico 4096 gen 26 14:05 OST\r\n",
      "\r\n",
      "notebookfiles/fakeaudio/Albums:\r\n",
      "total 4\r\n",
      "drwxrwxr-x 3 enrico enrico 4096 gen 26 14:05 PinkFloyd\r\n",
      "\r\n",
      "notebookfiles/fakeaudio/Albums/PinkFloyd:\r\n",
      "total 4\r\n",
      "drwxrwxr-x 2 enrico enrico 4096 gen 26 14:05 TheWall\r\n",
      "\r\n",
      "notebookfiles/fakeaudio/Albums/PinkFloyd/TheWall:\r\n",
      "total 0\r\n",
      "-rw-rw-r-- 1 enrico enrico 0 gen 26 14:05 Another Brick In The Wall - Part 1.MP3\r\n",
      "-rw-rw-r-- 1 enrico enrico 0 gen 26 14:05 The Thin Ice.MP3\r\n",
      "\r\n",
      "notebookfiles/fakeaudio/OST:\r\n",
      "total 4\r\n",
      "drwxrwxr-x 3 enrico enrico 4096 gen 26 14:05 TheBindingOfIsaac\r\n",
      "\r\n",
      "notebookfiles/fakeaudio/OST/TheBindingOfIsaac:\r\n",
      "total 4\r\n",
      "drwxrwxr-x 2 enrico enrico 4096 gen 26 14:05 Rebirth\r\n",
      "\r\n",
      "notebookfiles/fakeaudio/OST/TheBindingOfIsaac/Rebirth:\r\n",
      "total 0\r\n",
      "-rw-rw-r-- 1 enrico enrico 0 gen 26 14:05 My Innermost Apocalypse.MP3\r\n",
      "-rw-rw-r-- 1 enrico enrico 0 gen 26 14:05 NONTOCCARE.TXT\r\n"
     ]
    }
   ],
   "source": [
    "!ls -lR notebookfiles/fakeaudio/"
   ]
  },
  {
   "cell_type": "code",
   "execution_count": 40,
   "metadata": {
    "collapsed": true
   },
   "outputs": [],
   "source": [
    "import os"
   ]
  },
  {
   "cell_type": "code",
   "execution_count": 41,
   "metadata": {
    "collapsed": false
   },
   "outputs": [
    {
     "name": "stdout",
     "output_type": "stream",
     "text": [
      "./notebookfiles/fakeaudio/ ['Albums', 'OST'] []\n",
      "./notebookfiles/fakeaudio/Albums ['PinkFloyd'] []\n",
      "./notebookfiles/fakeaudio/Albums/PinkFloyd ['TheWall'] []\n",
      "./notebookfiles/fakeaudio/Albums/PinkFloyd/TheWall [] ['The Thin Ice.MP3', 'Another Brick In The Wall - Part 1.MP3']\n",
      "./notebookfiles/fakeaudio/OST ['TheBindingOfIsaac'] []\n",
      "./notebookfiles/fakeaudio/OST/TheBindingOfIsaac ['Rebirth'] []\n",
      "./notebookfiles/fakeaudio/OST/TheBindingOfIsaac/Rebirth [] ['NONTOCCARE.TXT', 'My Innermost Apocalypse.MP3']\n"
     ]
    }
   ],
   "source": [
    "for basepath, listdir, listfiles in os.walk(\"./notebookfiles/fakeaudio/\"):\n",
    "    print(basepath, listdir, listfiles)"
   ]
  },
  {
   "cell_type": "code",
   "execution_count": 42,
   "metadata": {
    "collapsed": true
   },
   "outputs": [],
   "source": [
    "for basepath, listdir, listfiles in os.walk(\"./notebookfiles/fakeaudio/\"):\n",
    "    for filename in listfiles:\n",
    "        new_filename = filename.lower()\n",
    "        os.rename(os.path.join(basepath, filename), os.path.join(basepath, new_filename))"
   ]
  },
  {
   "cell_type": "code",
   "execution_count": 43,
   "metadata": {
    "collapsed": false
   },
   "outputs": [
    {
     "name": "stdout",
     "output_type": "stream",
     "text": [
      "notebookfiles/fakeaudio/:\r\n",
      "total 8\r\n",
      "drwxrwxr-x 3 enrico enrico 4096 gen 26 14:05 Albums\r\n",
      "drwxrwxr-x 3 enrico enrico 4096 gen 26 14:05 OST\r\n",
      "\r\n",
      "notebookfiles/fakeaudio/Albums:\r\n",
      "total 4\r\n",
      "drwxrwxr-x 3 enrico enrico 4096 gen 26 14:05 PinkFloyd\r\n",
      "\r\n",
      "notebookfiles/fakeaudio/Albums/PinkFloyd:\r\n",
      "total 4\r\n",
      "drwxrwxr-x 2 enrico enrico 4096 gen 26 14:05 TheWall\r\n",
      "\r\n",
      "notebookfiles/fakeaudio/Albums/PinkFloyd/TheWall:\r\n",
      "total 0\r\n",
      "-rw-rw-r-- 1 enrico enrico 0 gen 26 14:05 another brick in the wall - part 1.mp3\r\n",
      "-rw-rw-r-- 1 enrico enrico 0 gen 26 14:05 the thin ice.mp3\r\n",
      "\r\n",
      "notebookfiles/fakeaudio/OST:\r\n",
      "total 4\r\n",
      "drwxrwxr-x 3 enrico enrico 4096 gen 26 14:05 TheBindingOfIsaac\r\n",
      "\r\n",
      "notebookfiles/fakeaudio/OST/TheBindingOfIsaac:\r\n",
      "total 4\r\n",
      "drwxrwxr-x 2 enrico enrico 4096 gen 26 14:05 Rebirth\r\n",
      "\r\n",
      "notebookfiles/fakeaudio/OST/TheBindingOfIsaac/Rebirth:\r\n",
      "total 0\r\n",
      "-rw-rw-r-- 1 enrico enrico 0 gen 26 14:05 my innermost apocalypse.mp3\r\n",
      "-rw-rw-r-- 1 enrico enrico 0 gen 26 14:05 nontoccare.txt\r\n"
     ]
    }
   ],
   "source": [
    "!ls -lR notebookfiles/fakeaudio/"
   ]
  },
  {
   "cell_type": "markdown",
   "metadata": {},
   "source": [
    "qui però sto anche cambiando il nome a tutti i file che sono presenti nelle directory, anche se non sono dei file audio!"
   ]
  },
  {
   "cell_type": "code",
   "execution_count": 47,
   "metadata": {
    "collapsed": true
   },
   "outputs": [],
   "source": [
    "for basepath, listdir, listfiles in os.walk(\"./notebookfiles/fakeaudio/\"):\n",
    "    for filename in listfiles:\n",
    "        if filename.lower().endswith('mp3'):\n",
    "            new_filename = filename.lower()\n",
    "            os.rename(os.path.join(basepath, filename),\n",
    "                      os.path.join(basepath, new_filename))"
   ]
  },
  {
   "cell_type": "code",
   "execution_count": 48,
   "metadata": {
    "collapsed": false
   },
   "outputs": [
    {
     "name": "stdout",
     "output_type": "stream",
     "text": [
      "notebookfiles/fakeaudio/:\r\n",
      "total 8\r\n",
      "drwxrwxr-x 3 enrico enrico 4096 gen 26 14:05 Albums\r\n",
      "drwxrwxr-x 3 enrico enrico 4096 gen 26 14:05 OST\r\n",
      "\r\n",
      "notebookfiles/fakeaudio/Albums:\r\n",
      "total 4\r\n",
      "drwxrwxr-x 3 enrico enrico 4096 gen 26 14:05 PinkFloyd\r\n",
      "\r\n",
      "notebookfiles/fakeaudio/Albums/PinkFloyd:\r\n",
      "total 4\r\n",
      "drwxrwxr-x 2 enrico enrico 4096 gen 26 14:05 TheWall\r\n",
      "\r\n",
      "notebookfiles/fakeaudio/Albums/PinkFloyd/TheWall:\r\n",
      "total 0\r\n",
      "-rw-rw-r-- 1 enrico enrico 0 gen 26 14:05 another brick in the wall - part 1.mp3\r\n",
      "-rw-rw-r-- 1 enrico enrico 0 gen 26 14:05 the thin ice.mp3\r\n",
      "\r\n",
      "notebookfiles/fakeaudio/OST:\r\n",
      "total 4\r\n",
      "drwxrwxr-x 3 enrico enrico 4096 gen 26 14:05 TheBindingOfIsaac\r\n",
      "\r\n",
      "notebookfiles/fakeaudio/OST/TheBindingOfIsaac:\r\n",
      "total 4\r\n",
      "drwxrwxr-x 2 enrico enrico 4096 gen 26 14:05 Rebirth\r\n",
      "\r\n",
      "notebookfiles/fakeaudio/OST/TheBindingOfIsaac/Rebirth:\r\n",
      "total 0\r\n",
      "-rw-rw-r-- 1 enrico enrico 0 gen 26 14:05 my innermost apocalypse.mp3\r\n",
      "-rw-rw-r-- 1 enrico enrico 0 gen 26 14:05 NONTOCCARE.TXT\r\n"
     ]
    }
   ],
   "source": [
    "!ls -lR notebookfiles/fakeaudio/"
   ]
  },
  {
   "cell_type": "markdown",
   "metadata": {},
   "source": [
    "Queste sono tre operazioni fondalmentali per l'analisi dati:\n",
    "\n",
    "* iterazione lazy\n",
    "* map (ripeti un'operazione su tutti gli elementi)\n",
    "* filter (seleziona solo una parte degli elementi)\n",
    "\n",
    "che cosa intendiamo con iterazione **lazy**?\n",
    "\n",
    "le operazioni non vengono compiute finchè il risultato non è richiesto!!"
   ]
  },
  {
   "cell_type": "markdown",
   "metadata": {},
   "source": [
    "In Python questa cosa è gestita da degli oggetti chiamati **iteratori**.\n",
    "\n",
    "Sono gli oggetti su cui faccio i cicli **for**.\n",
    "\n",
    "Un iteratore può essere percorso una volta sola!"
   ]
  },
  {
   "cell_type": "markdown",
   "metadata": {},
   "source": [
    "Questo è controintuitivo: se provo a fare un ciclo for su di una lista, lo posso fare quante volte voglio"
   ]
  },
  {
   "cell_type": "code",
   "execution_count": 54,
   "metadata": {
    "collapsed": false
   },
   "outputs": [
    {
     "name": "stdout",
     "output_type": "stream",
     "text": [
      "prima iterazione\n",
      "1\n",
      "2\n",
      "3\n",
      "seconda iterazione\n",
      "1\n",
      "2\n",
      "3\n"
     ]
    }
   ],
   "source": [
    "lista = [1, 2, 3]\n",
    "print(\"prima iterazione\")\n",
    "for elemento in lista:\n",
    "    print(elemento)\n",
    "print(\"seconda iterazione\")\n",
    "for elemento in lista:\n",
    "    print(elemento)"
   ]
  },
  {
   "cell_type": "markdown",
   "metadata": {},
   "source": [
    "ma se provo a farlo su di un file, lo posso leggere una volta sola!\n",
    "\n",
    "Se volessi rileggerlo, dovrei aprirlo di nuovo!"
   ]
  },
  {
   "cell_type": "code",
   "execution_count": 59,
   "metadata": {
    "collapsed": false
   },
   "outputs": [
    {
     "name": "stdout",
     "output_type": "stream",
     "text": [
      "prima iterazione\n",
      "'un testo inutile\\n'\n",
      "seconda iterazione\n"
     ]
    }
   ],
   "source": [
    "with open(\"notebookfiles/fakeaudio/OST/TheBindingOfIsaac/Rebirth/NONTOCCARE.TXT\") as file:\n",
    "    print(\"prima iterazione\")\n",
    "    for line in file:\n",
    "        print(repr(line))\n",
    "    print(\"seconda iterazione\")\n",
    "    for line in file:\n",
    "        print(repr(line))"
   ]
  },
  {
   "cell_type": "markdown",
   "metadata": {},
   "source": [
    "Python ce lo nasconde, ma in realtà ogni volta che iteriamo sulla lista lui crea un nuovo iteratore che scorre la lista e poi scompare.\n",
    "\n",
    "Possiamo farlo esplicitamente con il comando **iter**"
   ]
  },
  {
   "cell_type": "code",
   "execution_count": 60,
   "metadata": {
    "collapsed": false
   },
   "outputs": [
    {
     "name": "stdout",
     "output_type": "stream",
     "text": [
      "prima iterazione\n",
      "1\n",
      "2\n",
      "3\n",
      "seconda iterazione\n"
     ]
    }
   ],
   "source": [
    "lista = [1, 2, 3]\n",
    "iteratore_lista = iter(lista)\n",
    "print(\"prima iterazione\")\n",
    "for elemento in iteratore_lista:\n",
    "    print(elemento)\n",
    "print(\"seconda iterazione\")\n",
    "for elemento in iteratore_lista:\n",
    "    print(elemento)"
   ]
  },
  {
   "cell_type": "code",
   "execution_count": null,
   "metadata": {
    "collapsed": true
   },
   "outputs": [],
   "source": []
  }
 ],
 "metadata": {
  "kernelspec": {
   "display_name": "Python 3",
   "language": "python",
   "name": "python3"
  },
  "language_info": {
   "codemirror_mode": {
    "name": "ipython",
    "version": 3
   },
   "file_extension": ".py",
   "mimetype": "text/x-python",
   "name": "python",
   "nbconvert_exporter": "python",
   "pygments_lexer": "ipython3",
   "version": "3.6.0"
  }
 },
 "nbformat": 4,
 "nbformat_minor": 2
}
